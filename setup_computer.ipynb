{
 "cells": [
  {
   "cell_type": "markdown",
   "metadata": {},
   "source": [
    "# Setup a computer with AiiDA "
   ]
  },
  {
   "cell_type": "code",
   "execution_count": null,
   "metadata": {},
   "outputs": [],
   "source": [
    "from __future__ import print_function\n",
    "\n",
    "from aiida import load_dbenv, is_dbenv_loaded\n",
    "from aiida.backends import settings\n",
    "if not is_dbenv_loaded():\n",
    "    load_dbenv(profile=settings.AIIDADB_PROFILE)\n",
    "\n",
    "from aiida.orm.querybuilder import QueryBuilder\n",
    "from aiida.orm import load_node, Code, Computer\n",
    "from aiida.common.exceptions import NotExistent\n",
    "from aiida.backends.utils import get_automatic_user, get_backend_type\n",
    "\n",
    "if get_backend_type() == 'sqlalchemy':\n",
    "    from aiida.backends.sqlalchemy.models.authinfo import DbAuthInfo\n",
    "else:\n",
    "    from aiida.backends.djsite.db.models import DbAuthInfo\n",
    "\n",
    "import ipywidgets as ipw\n",
    "from IPython.display import display, clear_output\n",
    "\n",
    "from subprocess import check_call, check_output, call\n",
    "from os import path\n",
    "import re\n",
    "import pexpect\n",
    "import paramiko"
   ]
  },
  {
   "cell_type": "code",
   "execution_count": null,
   "metadata": {},
   "outputs": [],
   "source": [
    "layout = ipw.Layout(width=\"400px\")\n",
    "style = {\"description_width\":\"150px\"}\n",
    "proxyhost=\"lsmosrv1.epfl.ch\""
   ]
  },
  {
   "cell_type": "code",
   "execution_count": null,
   "metadata": {
    "collapsed": true
   },
   "outputs": [],
   "source": [
    "username = \"ubuntu\"\n",
    "clustername = \"quantum-mobile\""
   ]
  },
  {
   "cell_type": "markdown",
   "metadata": {},
   "source": [
    "## Step 1: Setup ssh"
   ]
  },
  {
   "cell_type": "code",
   "execution_count": null,
   "metadata": {
    "collapsed": true
   },
   "outputs": [],
   "source": [
    "def is_host_known(clustername):\n",
    "    fn = path.expanduser(\"~/.ssh/known_hosts\")\n",
    "    if not path.exists(fn):\n",
    "        return False\n",
    "    return call([\"ssh-keygen\", \"-F\", clustername]) == 0\n",
    "\n",
    "def make_host_known(clustername, proxycmd=[]):\n",
    "    fn = path.expanduser(\"~/.ssh/known_hosts\")\n",
    "    print(\"Adding keys from %s to %s\"%(clustername, fn))\n",
    "    hashes = check_output(proxycmd+[\"ssh-keyscan\", \"-H\", clustername])\n",
    "    with open(fn, \"a\") as f:\n",
    "        f.write(hashes)\n",
    "\n",
    "def can_login(clustername, username):\n",
    "    userhost = username+\"@\"+clustername\n",
    "    print(\"Trying ssh \"+userhost+\"... \", end='')\n",
    "    ret = call([\"ssh\", userhost, \"true\"])\n",
    "    print(\"Ok\" if ret==0 else \"Failed\")\n",
    "    return ret==0\n",
    "\n",
    "def is_in_config(clustername):\n",
    "    fn = path.expanduser(\"~/.ssh/config\")\n",
    "    if not path.exists(fn):\n",
    "        return False\n",
    "    cfglines = open(fn).read().split(\"\\n\")\n",
    "    return \"Host \"+clustername in cfglines\n",
    "\n",
    "def write_ssh_config(clustername, targethost, username, proxyhost=None):\n",
    "    fn = path.expanduser(\"~/.ssh/config\")\n",
    "    print(\"Adding section to \"+fn)\n",
    "    with open(fn, \"a\") as f:\n",
    "        f.write(\"Host \"+clustername+\"\\n\")\n",
    "        f.write(\"Hostname \"+targethost+\"\\n\")\n",
    "        f.write(\"User \"+username+\"\\n\")\n",
    "        f.write(\"IdentityFile ~/.ssh/mc-quantum-mobile.pem\\n\")\n",
    "        if proxyhost is not None:\n",
    "            f.write(\"ProxyCommand ssh -q -Y \"+username+\"@\"+proxyhost+\" netcat %h %p\\n\")\n",
    "\n",
    "def fetch_slurm_accounts(targethost, username, clustername):\n",
    "    import re\n",
    "    userhost = username+\"@\"+clustername\n",
    "    print(\"Fetching slurm accounts for cluster {}\".format(clustername))\n",
    "    \n",
    "    accounts_raw = check_output([\"ssh\", userhost, \n",
    "                             \"sacctmgr\", \"show\", \"associations\", \"User={}\".format(username),\n",
    "                             \"Cluster={}\".format(clustername), \"Format='Account'\", \"--noheader\",\n",
    "                             \"--parsable\"])\n",
    "                             # \"sinfo\", \"--noheader\", \"-o\", \"%P\"])\n",
    "    slurm_accounts = [_.split(\"|\")[0].strip() for _ in accounts_raw.splitlines()]\n",
    "    options = [(\"Please select a slurm account\", False)]\n",
    "    for l in slurm_accounts:\n",
    "        # The second option (here None) is for partition/constraint\n",
    "        options.append([\"%s\"%l, [l,None]])\n",
    "    drop_account.options = options\n",
    "\n",
    "    \n",
    "def setup_ssh_no_proxy(targethost, username, clustername):    \n",
    "\n",
    "    # now setup target host\n",
    "    if not is_host_known(targethost):\n",
    "        make_host_known(targethost)\n",
    "\n",
    "    if not is_in_config(clustername):\n",
    "        write_ssh_config(clustername, targethost, username)\n",
    "\n",
    "\n",
    "    # final check\n",
    "    if can_login(clustername, username):\n",
    "        #fetch_slurm_accounts(targethost, username, clustername)\n",
    "        print(\"Automatic ssh setup successful :-)\")\n",
    "        return True\n",
    "    else:\n",
    "        print(\"Automatic ssh setup failed, sorry :-(\")\n",
    "        return False"
   ]
  },
  {
   "cell_type": "code",
   "execution_count": null,
   "metadata": {
    "collapsed": true
   },
   "outputs": [],
   "source": [
    "def on_setup_ssh(b):\n",
    "    with setup_ssh_out:\n",
    "        clear_output()\n",
    "        if len(ip_computer.value) == 0:\n",
    "            print(\"Please specify the computer's ip\")\n",
    "            return\n",
    "        setup_ssh_no_proxy(ip_computer.value, username, clustername)\n",
    "\n",
    "\n",
    "ip_computer = ipw.Text(description=\"Computer IP\", layout=layout, style=style)\n",
    "btn_setup_ssh = ipw.Button(description=\"Setup ssh\")\n",
    "btn_setup_ssh.on_click(on_setup_ssh)\n",
    "setup_ssh_out = ipw.Output()\n",
    "\n",
    "\n",
    "display(ip_computer,btn_setup_ssh, setup_ssh_out)"
   ]
  },
  {
   "cell_type": "markdown",
   "metadata": {},
   "source": [
    "## Step 2: Setup AiiDA Computer"
   ]
  },
  {
   "cell_type": "code",
   "execution_count": null,
   "metadata": {
    "collapsed": true
   },
   "outputs": [],
   "source": [
    "# https://github.com/aiidateam/aiida_core/blob/develop/aiida/cmdline/commands/computer.py#L400\n",
    "from aiida.transport.plugins.ssh import parse_sshconfig\n",
    "\n",
    "def configure_computer(computer_name, targethost, username):\n",
    "    # create DbAuthInfo\n",
    "    authparams = {\n",
    "        'compress': True,\n",
    "        'gss_auth': False,\n",
    "        'gss_deleg_creds': False,\n",
    "        'gss_host': targethost,\n",
    "        'gss_kex': False,\n",
    "        'key_policy': 'WarningPolicy',\n",
    "        'load_system_host_keys': True,\n",
    "        'look_for_keys': True,\n",
    "        'key_filename': '/project/.ssh/mc-quantum-mobile.pem',\n",
    "        'port': 22,\n",
    "        'timeout': 60,\n",
    "        'username': username,\n",
    "    }\n",
    "    aiidauser = get_automatic_user()\n",
    "    authinfo = DbAuthInfo(dbcomputer=Computer.get(computer_name).dbcomputer, aiidauser=aiidauser)\n",
    "    authinfo.set_auth_params(authparams)\n",
    "    authinfo.save()\n",
    "    \n",
    "    ! verdi computer show {computer_name}    \n",
    "\n",
    "\n",
    "\n",
    "def setup_computer(computer_name, targethost, username):\n",
    "    try:\n",
    "        computer = Computer.get(computer_name)\n",
    "        print(\"A computer called {} already exists.\".format(computer_name))\n",
    "        return\n",
    "    except NotExistent:\n",
    "        pass\n",
    "\n",
    "    print(\"Creating new computer with name '{}'\".format(computer_name))\n",
    "    computer = Computer(name=computer_name)\n",
    "    computer.set_hostname(targethost)\n",
    "    computer.set_description(\"Quantum mobile workhorse\")\n",
    "    computer.set_enabled_state(True)\n",
    "    computer.set_transport_type(\"ssh\")\n",
    "    computer.set_scheduler_type(\"torque\")\n",
    "    computer.set_workdir(\"/home/{username}/aiida_run_\"+computer_name)\n",
    "    # set_mpirun_command() must be called after set_scheduler_type()\n",
    "    #cmd = \"srun -n {tot_num_mpiprocs} -c $SLURM_CPUS_PER_TASK --cpu_bind=rank --hint=nomultithread\"\n",
    "    cmd = \"mpirun -n {tot_num_mpiprocs}\"\n",
    "    computer.set_mpirun_command(cmd.split())\n",
    "    ncpus = 24\n",
    "    computer.set_default_mpiprocs_per_machine(ncpus)\n",
    "    # Note: it would be better to use the custom scheduler commands, but they are not supported in Computer,\n",
    "    # only in calc...\n",
    "    prepend_text  = \"### computer prepend_text start ###\\n\"\n",
    "    prepend_text += \"### computer prepend_text end ###\\n\"\n",
    "    computer.set_prepend_text(prepend_text)\n",
    "    computer.store()\n",
    "    \n",
    "    configure_computer(computer_name, targethost, username)"
   ]
  },
  {
   "cell_type": "code",
   "execution_count": null,
   "metadata": {
    "collapsed": true
   },
   "outputs": [],
   "source": [
    "def on_setup_computer(b):\n",
    "    with setup_comp_out:\n",
    "        clear_output()\n",
    "        setup_computer(clustername, ip_computer.value, username)\n",
    "\n",
    "    \n",
    "btn_setup_comp = ipw.Button(description=\"Setup Computer\")\n",
    "btn_setup_comp.on_click(on_setup_computer)\n",
    "setup_comp_out = ipw.Output()\n",
    "display(btn_setup_comp, setup_comp_out)"
   ]
  },
  {
   "cell_type": "markdown",
   "metadata": {},
   "source": [
    "## Step 3: Test Computer"
   ]
  },
  {
   "cell_type": "code",
   "execution_count": null,
   "metadata": {
    "collapsed": true
   },
   "outputs": [],
   "source": [
    "def on_test_computer(b):\n",
    "    with test_out:\n",
    "        clear_output()\n",
    "        ! verdi computer test --traceback {clustername}\n",
    "\n",
    "test_out = ipw.Output()\n",
    "btn_test_comp = ipw.Button(description=\"Test Computer\")\n",
    "btn_test_comp.on_click(on_test_computer)\n",
    "display(btn_test_comp, test_out)"
   ]
  }
 ],
 "metadata": {
  "kernelspec": {
   "display_name": "Python 2",
   "language": "python",
   "name": "python2"
  },
  "language_info": {
   "codemirror_mode": {
    "name": "ipython",
    "version": 2
   },
   "file_extension": ".py",
   "mimetype": "text/x-python",
   "name": "python",
   "nbconvert_exporter": "python",
   "pygments_lexer": "ipython2",
   "version": "2.7.14"
  }
 },
 "nbformat": 4,
 "nbformat_minor": 2
}
