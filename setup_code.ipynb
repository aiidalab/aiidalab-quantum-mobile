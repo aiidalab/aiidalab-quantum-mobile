{
 "cells": [
  {
   "cell_type": "markdown",
   "metadata": {},
   "source": [
    "# Setup codes"
   ]
  },
  {
   "cell_type": "code",
   "execution_count": null,
   "metadata": {},
   "outputs": [],
   "source": [
    "from __future__ import print_function\n",
    "\n",
    "from aiida import load_dbenv, is_dbenv_loaded\n",
    "from aiida.backends import settings\n",
    "if not is_dbenv_loaded():\n",
    "    load_dbenv(profile=settings.AIIDADB_PROFILE)\n",
    "\n",
    "from aiida.orm import load_node, Code, Computer\n",
    "from aiida.common.exceptions import NotExistent, MultipleObjectsError\n",
    "\n",
    "\n",
    "import ipywidgets as ipw\n",
    "from IPython.display import display, clear_output"
   ]
  },
  {
   "cell_type": "code",
   "execution_count": null,
   "metadata": {},
   "outputs": [],
   "source": [
    "compname = 'quantum-mobile'\n",
    "qe_version = '6.2.1'"
   ]
  },
  {
   "cell_type": "code",
   "execution_count": null,
   "metadata": {},
   "outputs": [],
   "source": [
    "def setup_codes(computer_name):\n",
    "    computer = Computer.get(computer_name)\n",
    "    \n",
    "    qe_path = \"/home/ubuntu/codes/q-e-qe-6.2.1-fda42b8045f604ef8cc8400dac1b2a06cb3f6e91/bin/\"\n",
    "    cp2k_path = \"/home/ubuntu/codes/cp2k-5.1/exe/\"\n",
    "    \n",
    "    # CP2K\n",
    "    cp2k_version = '6.0'\n",
    "    cp2k_revision = '18265'\n",
    "    code_label = \"cp2k_{}_{}\".format(cp2k_version, cp2k_revision)\n",
    "    code_full_name = \"{}@{}\".format(code_label, computer_name)\n",
    "    try:\n",
    "        Code.get_from_string(code_full_name)\n",
    "    except (NotExistent, MultipleObjectsError):            \n",
    "        code = Code(remote_computer_exec=(computer, cp2k_path + \"cp2k.ssmp\"))\n",
    "        code.label = code_label\n",
    "        code.description = \"CP2K Code\"\n",
    "        code.set_input_plugin_name(\"cp2k\")\n",
    "        prepend_text  = \"### code prepend_text start ###\\n\"\n",
    "        prepend_text += \"module load CP2K\\n\"\n",
    "        prepend_text += \"export CP2K_DATA_DIR=/home/ubuntu/codes/cp2k-5.1/\\n\"\n",
    "        prepend_text += \"### code prepend_text end ###\\n\"\n",
    "        code.set_prepend_text(prepend_text)\n",
    "        code.set_append_text(\"\")\n",
    "        code.store()\n",
    "        code._reveal()\n",
    "        ! verdi code show \"{code_full_name}\"\n",
    "    else:\n",
    "        print(\"Code '{}' already existent\".format(code_full_name))        \n",
    "    \n",
    "    # QuantumESPRESSO pw\n",
    "    for codename in ['pw', 'pp', 'ph', 'projwfc', 'matdyn', 'q2r']:\n",
    "        code_label = \"{}-{}\".format(codename, qe_version)\n",
    "        code_full_name = \"{}@{}\".format(code_label, computer_name)\n",
    "        try:\n",
    "            Code.get_from_string(code_full_name)\n",
    "        except (NotExistent, MultipleObjectsError):            \n",
    "            code = Code(remote_computer_exec=(computer, qe_path + \"{}.x\".format(codename)))\n",
    "            code.label = code_label\n",
    "            code.description = \"Quantum ESPRESSO {}.x version {}\".format(codename, qe_version)\n",
    "            code.set_input_plugin_name(\"quantumespresso.{}\".format(codename))\n",
    "            prepend_text  = \"### code prepend_text start ###\\n\"\n",
    "            prepend_text += \"module load QuantumESPRESSO/6.1.0-CrayIntel-17.08\\n\"\n",
    "            prepend_text += \"### code prepend_text end ###\\n\"\n",
    "            code.set_prepend_text(prepend_text)\n",
    "            code.set_append_text(\"\")\n",
    "            code.store()\n",
    "            code._reveal()\n",
    "            ! verdi code show \"{code_full_name}\"\n",
    "        else:\n",
    "            print(\"Code '{}' already existent\".format(code_full_name))"
   ]
  },
  {
   "cell_type": "code",
   "execution_count": null,
   "metadata": {
    "scrolled": false
   },
   "outputs": [],
   "source": [
    "def on_setup_codes(b):\n",
    "    with setup_code_out:\n",
    "        clear_output()\n",
    "        setup_codes(compname)\n",
    "\n",
    "setup_code_out = ipw.Output()\n",
    "btn_setup_codes = ipw.Button(description=\"Setup Codes\")\n",
    "btn_setup_codes.on_click(on_setup_codes)\n",
    "display(btn_setup_codes, setup_code_out)"
   ]
  }
 ],
 "metadata": {
  "kernelspec": {
   "display_name": "Python 2",
   "language": "python",
   "name": "python2"
  },
  "language_info": {
   "codemirror_mode": {
    "name": "ipython",
    "version": 2
   },
   "file_extension": ".py",
   "mimetype": "text/x-python",
   "name": "python",
   "nbconvert_exporter": "python",
   "pygments_lexer": "ipython2",
   "version": "2.7.14"
  }
 },
 "nbformat": 4,
 "nbformat_minor": 2
}
